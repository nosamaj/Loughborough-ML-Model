{
 "cells": [
  {
   "cell_type": "code",
   "execution_count": null,
   "metadata": {},
   "outputs": [],
   "source": [
    "import pandas as pd \n",
    "import xgboost as xgb\n",
    "import plotly.express as px\n",
    "from sklearn.metrics import mean_absolute_error"
   ]
  },
  {
   "cell_type": "code",
   "execution_count": null,
   "metadata": {},
   "outputs": [],
   "source": [
    "df_level = pd.read_csv('../datasets/Wood Brook/Loughborough-level-15min-Qualified.csv').fillna(0)\n",
    "df_rain = pd.read_csv('../datasets/Wood Brook/Loughborough-University-rainfall-15min-Qualified.csv').fillna(0)"
   ]
  },
  {
   "cell_type": "code",
   "execution_count": null,
   "metadata": {},
   "outputs": [],
   "source": [
    "df_level['value'] = pd.to_numeric(df_level['value'])"
   ]
  },
  {
   "cell_type": "code",
   "execution_count": null,
   "metadata": {},
   "outputs": [],
   "source": [
    "df_merged = pd.merge(right=df_rain,left=df_level,left_on='dateTime',right_on='dateTime', how='inner')"
   ]
  },
  {
   "cell_type": "code",
   "execution_count": null,
   "metadata": {},
   "outputs": [],
   "source": [
    "df_merged = df_merged.rename({'value_x':'level (m)','value_y': 'rainfall (mm)'},axis='columns')"
   ]
  },
  {
   "cell_type": "code",
   "execution_count": null,
   "metadata": {},
   "outputs": [],
   "source": [
    "df_merged['dateTime'] = pd.to_datetime(df_merged['dateTime'])"
   ]
  },
  {
   "cell_type": "code",
   "execution_count": null,
   "metadata": {},
   "outputs": [],
   "source": [
    "df_merged.set_index('dateTime',inplace=True)"
   ]
  },
  {
   "cell_type": "code",
   "execution_count": null,
   "metadata": {},
   "outputs": [],
   "source": [
    "def create_rolling_sums(df,column,window_list):\n",
    "    for window in window_list:\n",
    "        df[f'{column}_sum_{window}'] = df[column].rolling(window).sum()\n",
    "    return df"
   ]
  },
  {
   "cell_type": "code",
   "execution_count": null,
   "metadata": {},
   "outputs": [],
   "source": [
    "windows = ['1h','2h','4h','8h','24h','7d','30d','90d']"
   ]
  },
  {
   "cell_type": "code",
   "execution_count": null,
   "metadata": {},
   "outputs": [],
   "source": [
    "df_test_train = create_rolling_sums(df_merged,'rainfall (mm)',windows)\n",
    "df_test_train = df_test_train.fillna(0)"
   ]
  },
  {
   "cell_type": "code",
   "execution_count": null,
   "metadata": {},
   "outputs": [],
   "source": [
    "df_test_train.columns"
   ]
  },
  {
   "cell_type": "code",
   "execution_count": null,
   "metadata": {},
   "outputs": [],
   "source": [
    "df_train =  df_test_train.loc['2017-05-01':'2023-12-31']\n",
    "df_test = df_test_train.loc['2024-01-01':]\n"
   ]
  },
  {
   "cell_type": "code",
   "execution_count": null,
   "metadata": {},
   "outputs": [],
   "source": [
    "x_train = df_train[\n",
    "    [\n",
    "        \"rainfall (mm)_sum_1h\",\n",
    "        \"rainfall (mm)_sum_2h\",\n",
    "        \"rainfall (mm)_sum_4h\",\n",
    "        \"rainfall (mm)_sum_8h\",\n",
    "        \"rainfall (mm)_sum_24h\",\n",
    "        \"rainfall (mm)_sum_7d\",\n",
    "        \"rainfall (mm)_sum_30d\",\n",
    "        \"rainfall (mm)_sum_90d\",\n",
    "    ]\n",
    "]\n",
    "x_test = df_test[\n",
    "    [\n",
    "        \"rainfall (mm)_sum_1h\",\n",
    "        \"rainfall (mm)_sum_2h\",\n",
    "        \"rainfall (mm)_sum_4h\",\n",
    "        \"rainfall (mm)_sum_8h\",\n",
    "        \"rainfall (mm)_sum_24h\",\n",
    "        \"rainfall (mm)_sum_7d\",\n",
    "        \"rainfall (mm)_sum_30d\",\n",
    "        \"rainfall (mm)_sum_90d\",\n",
    "    ]\n",
    "]\n",
    "y_train = df_train[[\"level (m)\"]]\n",
    "\n",
    "y_test = df_test[[\"level (m)\"]]"
   ]
  },
  {
   "cell_type": "code",
   "execution_count": null,
   "metadata": {},
   "outputs": [],
   "source": [
    "x_train"
   ]
  },
  {
   "cell_type": "code",
   "execution_count": null,
   "metadata": {},
   "outputs": [],
   "source": [
    "x_train.dtypes"
   ]
  },
  {
   "cell_type": "code",
   "execution_count": null,
   "metadata": {},
   "outputs": [],
   "source": [
    "y_train"
   ]
  },
  {
   "cell_type": "code",
   "execution_count": null,
   "metadata": {},
   "outputs": [],
   "source": [
    "quantiles = [0.05, 0.50, 0.95]"
   ]
  },
  {
   "cell_type": "code",
   "execution_count": null,
   "metadata": {},
   "outputs": [],
   "source": [
    "import sklearn\n",
    "print(xgb.__version__)\n",
    "print(sklearn.__version__)"
   ]
  },
  {
   "cell_type": "code",
   "execution_count": null,
   "metadata": {},
   "outputs": [],
   "source": [
    "model = xgb.XGBRegressor(\n",
    "max_depth= 15,\n",
    "objective= 'reg:squarederror',\n",
    "#quantile_alpha= 0.50,  # alpha is the quantile level\n",
    "#eval_metric= 'rmse',\n",
    "n_estimators= 10000, # Number of boosting rounds\n",
    "verbosity= 2, # Verbose logging\n",
    "#verbose= ,\n",
    "device=\"cuda\",\n",
    "learning_rate= 0.001,\n",
    "base_score = 1.5,\n",
    "early_stopping_rounds = 50,\n",
    "\n",
    ")\n",
    "model.fit(x_train,y_train,eval_set=[(x_test, y_test)])\n",
    "mean_preds = model.predict(x_test)\n",
    "\n"
   ]
  },
  {
   "cell_type": "code",
   "execution_count": null,
   "metadata": {},
   "outputs": [],
   "source": [
    "model = xgb.XGBRegressor(\n",
    "max_depth= 15,\n",
    "objective= 'reg:tweedie',\n",
    "\n",
    "#quantile_alpha= 0.50,  # alpha is the quantile level\n",
    "#eval_metric= 'rmse',\n",
    "n_estimators= 100000,\n",
    "verbosity= 2, # Verbose logging\n",
    "#verbose= ,\n",
    "device=\"cuda\",\n",
    "learning_rate= 0.001,\n",
    "base_score = 1,\n",
    "early_stopping_rounds = 50,\n",
    "\n",
    ")\n",
    "model.fit(x_train,y_train,eval_set=[(x_test, y_test)])\n",
    "tweedle_preds = model.predict(x_test)\n"
   ]
  },
  {
   "cell_type": "code",
   "execution_count": null,
   "metadata": {},
   "outputs": [],
   "source": [
    "predictions ={}\n",
    "predictions['mean pred'] = mean_preds \n",
    "predictions['tweedle pred'] = tweedle_preds"
   ]
  },
  {
   "cell_type": "code",
   "execution_count": null,
   "metadata": {},
   "outputs": [],
   "source": [
    "models = {}\n",
    "#predictions = {f\"{q*100}th_centile\": [] for q in quantiles}\n",
    "\n",
    "for q in quantiles:\n",
    "    # Create DMatrix for XGBoost\n",
    "    # Set parameters\n",
    "    # params = {\n",
    "        \n",
    "    # #     'max_depth': 25,\n",
    "    # #     'objective': 'reg:quantileerror',\n",
    "    # #     'quantile_alpha': q,  # alpha is the quantile level\n",
    "    # #     'eval_metric': 'mae',\n",
    "    # #     'n_estimators': 10000, # Number of boosting rounds\n",
    "    # #     'verbosity': 2, # Verbose logging\n",
    "    # }\n",
    "\n",
    "    # Train the model\n",
    "    model = xgb.XGBRegressor(\n",
    "        max_depth= 5,\n",
    "        objective= 'reg:quantileerror',\n",
    "        quantile_alpha= q,  # alpha is the quantile level\n",
    "        #eval_metric= 'rmse',\n",
    "        n_estimators= 100000, # Number of boosting rounds\n",
    "         # Verbose logging\n",
    "        device=\"cuda\",\n",
    "        learning_rate= 0.005,\n",
    "        base_score = 1,\n",
    "        early_stopping_rounds = 200\n",
    "    )\n",
    "    \n",
    "    model.fit(x_train,y_train,eval_set=[(x_test, y_test)])\n",
    "    #print(model.evals_result())\n",
    "    models[q] = model\n",
    "\n",
    "    # Make predictions\n",
    "    preds = model.predict(x_test)\n",
    "    predictions[f\"{q*100}th_centile\"] = preds\n",
    "\n",
    "# Convert predictions to a DataFrame for better visualization\n",
    "quantile_predictions = pd.DataFrame(predictions)\n"
   ]
  },
  {
   "cell_type": "code",
   "execution_count": null,
   "metadata": {},
   "outputs": [],
   "source": [
    "quantile_predictions"
   ]
  },
  {
   "cell_type": "code",
   "execution_count": null,
   "metadata": {},
   "outputs": [],
   "source": [
    "y_test.reset_index(inplace=True)\n",
    "y_test_plus_pred = pd.concat([y_test, quantile_predictions,], axis=1)\n",
    "y_test.set_index('dateTime')\n",
    "y_test_plus_pred"
   ]
  },
  {
   "cell_type": "code",
   "execution_count": null,
   "metadata": {},
   "outputs": [],
   "source": [
    "y_test_plus_pred.columns"
   ]
  },
  {
   "cell_type": "code",
   "execution_count": null,
   "metadata": {},
   "outputs": [],
   "source": []
  },
  {
   "cell_type": "code",
   "execution_count": null,
   "metadata": {},
   "outputs": [],
   "source": [
    "fig = px.line (y_test_plus_pred, x='dateTime',y=['level (m)', 'mean pred', 'tweedle pred', '5.0th_centile',\n",
    "       '50.0th_centile', '95.0th_centile'], title=\"Wood Brook Level Predictions\")\n",
    "fig.add_hline(y=0.7)\n",
    "fig.show()"
   ]
  },
  {
   "cell_type": "code",
   "execution_count": null,
   "metadata": {},
   "outputs": [],
   "source": [
    "df_weather =pd.read_csv('../datasets/Wood Brook/suttonboningtondata.CSV')\n",
    "df_weather"
   ]
  },
  {
   "cell_type": "code",
   "execution_count": null,
   "metadata": {},
   "outputs": [],
   "source": [
    "df_test_train['month'] = df_test_train.index.month\n",
    "df_test_train['year'] = df_test_train.index.year\n",
    "df_test_train"
   ]
  },
  {
   "cell_type": "code",
   "execution_count": null,
   "metadata": {},
   "outputs": [],
   "source": [
    "df_train_date =  df_test_train.loc['2017-05-01':'2023-12-31']\n",
    "df_test_date = df_test_train.loc['2024-01-01':]\n"
   ]
  },
  {
   "cell_type": "code",
   "execution_count": null,
   "metadata": {},
   "outputs": [],
   "source": [
    "x_train = df_train_date[\n",
    "    [\n",
    "        \"rainfall (mm)_sum_1h\",\n",
    "        \"rainfall (mm)_sum_2h\",\n",
    "        \"rainfall (mm)_sum_4h\",\n",
    "        \"rainfall (mm)_sum_8h\",\n",
    "        \"rainfall (mm)_sum_24h\",\n",
    "        \"rainfall (mm)_sum_7d\",\n",
    "        \"rainfall (mm)_sum_30d\",\n",
    "        \"rainfall (mm)_sum_90d\",\n",
    "        'month',\n",
    "        'year',\n",
    "    ]\n",
    "]\n",
    "x_test = df_test_date[\n",
    "    [\n",
    "        \"rainfall (mm)_sum_1h\",\n",
    "        \"rainfall (mm)_sum_2h\",\n",
    "        \"rainfall (mm)_sum_4h\",\n",
    "        \"rainfall (mm)_sum_8h\",\n",
    "        \"rainfall (mm)_sum_24h\",\n",
    "        \"rainfall (mm)_sum_7d\",\n",
    "        \"rainfall (mm)_sum_30d\",\n",
    "        \"rainfall (mm)_sum_90d\",\n",
    "        'month',\n",
    "        'year',\n",
    "    ]\n",
    "]\n",
    "y_train = df_train[[\"level (m)\"]]\n",
    "\n",
    "y_test = df_test[[\"level (m)\"]]"
   ]
  },
  {
   "cell_type": "code",
   "execution_count": null,
   "metadata": {},
   "outputs": [],
   "source": [
    "predictions ={}\n"
   ]
  },
  {
   "cell_type": "code",
   "execution_count": null,
   "metadata": {},
   "outputs": [],
   "source": [
    "models_date = {}\n",
    "#predictions = {f\"{q*100}th_centile\": [] for q in quantiles}\n",
    "\n",
    "for q in quantiles:\n",
    "    # Create DMatrix for XGBoost\n",
    "    # Set parameters\n",
    "    # params = {\n",
    "        \n",
    "    # #     'max_depth': 25,\n",
    "    # #     'objective': 'reg:quantileerror',\n",
    "    # #     'quantile_alpha': q,  # alpha is the quantile level\n",
    "    # #     'eval_metric': 'mae',\n",
    "    # #     'n_estimators': 10000, # Number of boosting rounds\n",
    "    # #     'verbosity': 2, # Verbose logging\n",
    "    # }\n",
    "\n",
    "    # Train the model\n",
    "    model = xgb.XGBRegressor(\n",
    "        max_depth= 15,\n",
    "        objective= 'reg:quantileerror',\n",
    "        quantile_alpha= q,  # alpha is the quantile level\n",
    "        #eval_metric= 'rmse',\n",
    "        n_estimators= 100000, # Number of boosting rounds\n",
    "         # Verbose logging\n",
    "        device=\"cuda\",\n",
    "        learning_rate= 0.005,\n",
    "        base_score = 1,\n",
    "        early_stopping_rounds = 200\n",
    "    )\n",
    "    \n",
    "    model.fit(x_train,y_train,eval_set=[(x_test, y_test)])\n",
    "    #print(model.evals_result())\n",
    "    models[q] = model\n",
    "\n",
    "    # Make predictions\n",
    "    preds = model.predict(x_test)\n",
    "    predictions[f\"{q*100}th_centile\"] = preds\n",
    "\n",
    "# Convert predictions to a DataFrame for better visualization\n",
    "quantile_predictions_month = pd.DataFrame(predictions)"
   ]
  },
  {
   "cell_type": "code",
   "execution_count": null,
   "metadata": {},
   "outputs": [],
   "source": [
    "y_test.reset_index(inplace=True)\n",
    "x_test.reset_index(inplace=True)\n",
    "y_test_plus_pred_date = pd.concat([y_test, quantile_predictions_month,], axis=1)\n",
    "y_test_plus_pred_date =pd.merge(y_test_plus_pred_date,x_test,on='dateTime')\n",
    "\n",
    "y_test.set_index('dateTime')\n",
    "y_test_plus_pred_date"
   ]
  },
  {
   "cell_type": "code",
   "execution_count": null,
   "metadata": {},
   "outputs": [],
   "source": [
    "fig = px.line (y_test_plus_pred_date, x='dateTime',y=['level (m)', '5.0th_centile',\n",
    "       '50.0th_centile', '95.0th_centile'], title=\"Wood Brook Level Predictions\")\n",
    "fig.add_hline(y=0.7)\n",
    "\n",
    "fig.show()"
   ]
  },
  {
   "cell_type": "code",
   "execution_count": null,
   "metadata": {},
   "outputs": [],
   "source": [
    "import plotly.graph_objects as go\n",
    "# Create a Plotly figure\n",
    "fig = go.Figure()\n",
    "\n",
    "fig.update_layout( yaxis=dict( title='Primary Y-Axis' ), yaxis2=dict( title='Rainfall (mm)', overlaying='y', side='right' ) ) \n",
    "\n",
    "#\n",
    "fig.add_trace(go.Bar(\n",
    "    x=y_test_plus_pred_date['dateTime'], y=y_test_plus_pred_date['rainfall (mm)_sum_1h'], yaxis='y2', name = 'rainfall'\n",
    "))\n",
    "\n",
    "# Add 'bottom' series\n",
    "fig.add_trace(go.Scatter(\n",
    "    x=y_test_plus_pred_date['dateTime'], y=y_test_plus_pred_date['5.0th_centile'],\n",
    "    mode='lines',\n",
    "    line=dict(width=0.5, color='rgba(0, 100, 80)'),\n",
    "    name='5th percentile'\n",
    "))\n",
    "# Add 'upper' series and fill area between 'bottom' and 'upper'\n",
    "fig.add_trace(go.Scatter(\n",
    "    x=y_test_plus_pred_date['dateTime'], y=y_test_plus_pred_date['95.0th_centile'],\n",
    "    mode='lines',\n",
    "    line=dict(width=0.5, color='rgba(0, 100, 80, 0.2)'),\n",
    "    fill='tonexty',  # Fill area between 'bottom' and 'upper'\n",
    "    name='95th Percentile'\n",
    "))\n",
    "\n",
    "\n",
    "\n",
    "\n",
    "# Add 'middle' series\n",
    "fig.add_trace(go.Scatter(\n",
    "    x=y_test_plus_pred_date['dateTime'], y=y_test_plus_pred_date['50.0th_centile'],\n",
    "    mode='lines',\n",
    "    line=dict(width=2, color='rgb(0, 0, 255)'),\n",
    "    name='predicted level'\n",
    "))\n",
    "\n",
    "fig.add_trace(go.Scatter(\n",
    "    x=y_test_plus_pred_date['dateTime'], y=y_test_plus_pred_date['level (m)'],\n",
    "    mode='lines',\n",
    "    line=dict(width=2, color='rgb(170, 20,40)'),\n",
    "    name='observed level'\n",
    "))\n",
    "fig.add_hline(0.7,line_dash=\"dot\", annotation_text=\"Flooding Possible\", annotation_position=\"top right\")\n",
    "\n",
    "# Update layout to flip the secondary y-axis\n",
    "\n",
    "# Show the plot\n",
    "fig.show()\n"
   ]
  },
  {
   "cell_type": "code",
   "execution_count": null,
   "metadata": {},
   "outputs": [],
   "source": [
    "import plotly.graph_objects as go\n",
    "\n",
    "# Assuming your data is in pandas dataframe `y_test_plus_pred_date`\n",
    "\n",
    "# Create the figure\n",
    "fig = go.Figure()\n",
    "\n",
    "# Add the Rainfall trace (flipped, with opacity 0.7)\n",
    "fig.add_trace(go.Bar(\n",
    "    x=y_test_plus_pred_date['dateTime'], \n",
    "    y=-y_test_plus_pred_date['rainfall (mm)_sum_1h'],  # Flip by making the y-values negative\n",
    "    name='Rainfall',\n",
    "    opacity=0.7,  # Set transparency of the bars\n",
    "    marker=dict(color='rgba(0, 100, 255, 0.7)'),  # Optional: Set the color with alpha\n",
    "    xaxis='x2'  # Link this trace to the secondary x-axis (top x-axis)\n",
    "))\n",
    "\n",
    "# Add the remaining traces (percentiles and levels) on the primary x-axis\n",
    "fig.add_trace(go.Scatter(\n",
    "    x=y_test_plus_pred_date['dateTime'], \n",
    "    y=y_test_plus_pred_date['5.0th_centile'],\n",
    "    mode='lines',\n",
    "    line=dict(width=0.5, color='rgba(0, 100, 80)'),\n",
    "    name='5th percentile'\n",
    "))\n",
    "\n",
    "fig.add_trace(go.Scatter(\n",
    "    x=y_test_plus_pred_date['dateTime'], \n",
    "    y=y_test_plus_pred_date['95.0th_centile'],\n",
    "    mode='lines',\n",
    "    line=dict(width=0.5, color='rgba(0, 100, 80, 0.2)'),\n",
    "    fill='tonexty',  # Fill area between 'bottom' and 'upper'\n",
    "    name='95th Percentile'\n",
    "))\n",
    "\n",
    "fig.add_trace(go.Scatter(\n",
    "    x=y_test_plus_pred_date['dateTime'], \n",
    "    y=y_test_plus_pred_date['50.0th_centile'],\n",
    "    mode='lines',\n",
    "    line=dict(width=2, color='rgb(0, 0, 255)'),\n",
    "    name='Predicted level'\n",
    "))\n",
    "\n",
    "fig.add_trace(go.Scatter(\n",
    "    x=y_test_plus_pred_date['dateTime'], \n",
    "    y=y_test_plus_pred_date['level (m)'],\n",
    "    mode='lines',\n",
    "    line=dict(width=2, color='rgb(170, 20, 40)'),\n",
    "    name='Observed level'\n",
    "))\n",
    "\n",
    "# Add a horizontal line to the plot (Flooding Possible)\n",
    "fig.add_hline(\n",
    "    y=0.7, \n",
    "    line_dash=\"dot\", \n",
    "    annotation_text=\"Flooding Possible\", \n",
    "    annotation_position=\"top right\"\n",
    ")\n",
    "\n",
    "# Update layout to make sure the plot looks good\n",
    "fig.update_layout(\n",
    "    title=\"Rainfall and Water Levels\",\n",
    "    yaxis=dict(title='Rainfall (mm) and Water Levels (m)', side='left'),\n",
    "    xaxis=dict(title=\"Date/Time\", showgrid=True),  # Primary x-axis (bottom)\n",
    "    xaxis2=dict(  # Secondary x-axis (top for rainfall)\n",
    "        title=\"Date/Time\",\n",
    "        overlaying=\"x\",  # Link to primary x-axis\n",
    "        side=\"top\",  # Position at the top of the plot\n",
    "        showgrid=False,  # Disable grid lines on the secondary x-axis\n",
    "        tickvals=y_test_plus_pred_date['dateTime'],  # Ensure the ticks align with the primary x-axis\n",
    "    ),\n",
    "    showlegend=True,\n",
    "    height=600,  # Adjust the height if needed\n",
    "    bargap=0.1  # Add some gap between bars for better visualization\n",
    ")\n",
    "\n",
    "# Show the plot\n",
    "fig.write_html('plot.html')\n",
    "\n"
   ]
  }
 ],
 "metadata": {
  "kernelspec": {
   "display_name": ".venv",
   "language": "python",
   "name": "python3"
  },
  "language_info": {
   "codemirror_mode": {
    "name": "ipython",
    "version": 3
   },
   "file_extension": ".py",
   "mimetype": "text/x-python",
   "name": "python",
   "nbconvert_exporter": "python",
   "pygments_lexer": "ipython3",
   "version": "3.12.3"
  }
 },
 "nbformat": 4,
 "nbformat_minor": 2
}
